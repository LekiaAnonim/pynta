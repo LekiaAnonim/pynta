{
 "cells": [
  {
   "cell_type": "code",
   "execution_count": 1,
   "id": "1b35dcf5",
   "metadata": {},
   "outputs": [
    {
     "name": "stdout",
     "output_type": "stream",
     "text": [
      "Found many potential paths for FW_CONFIG_FILE: ['/projects/westgroup/lekia.p/pynta_pr/FW_config.yaml', '/projects/westgroup/lekia.p/pynta/FW_config.yaml']\n",
      "Choosing as default: /projects/westgroup/lekia.p/pynta_pr/FW_config.yaml\n"
     ]
    }
   ],
   "source": [
    "from pynta.postprocessing import *\n",
    "from ase.visualize import view\n",
    "import json\n",
    "import os"
   ]
  },
  {
   "cell_type": "markdown",
   "id": "98819bef-df6b-488d-bea1-3205dba73cee",
   "metadata": {},
   "source": [
    "# Surface Information and Reference Energies"
   ]
  },
  {
   "cell_type": "code",
   "execution_count": 2,
   "id": "066c675b-bdc0-4dc0-92b3-fdb3598528ab",
   "metadata": {},
   "outputs": [],
   "source": [
    "path = \"/projects/westgroup/lekia.p/pynta_pr/Fe/Fe_with_Fairchem\"\n",
    "\n",
    "#Surface information\n",
    "metal = \"Fe\" #specify the metal\n",
    "facet = \"bcc110\" #specify the facet\n",
    "slab = read(\"/projects/westgroup/lekia.p/pynta_pr/Fe/slab.xyz\")\n",
    "nslab = len(slab)\n",
    "site_density = get_site_density(slab,metal,facet)\n",
    "\n",
    "#Site Information\n",
    "cas = SlabAdsorptionSites(slab, facet,allow_6fold=False,composition_effect=False,\n",
    "                            label_sites=True,\n",
    "                            surrogate_metal=metal)\n",
    "sites = cas.get_sites()\n",
    "site_adjacency = cas.get_neighbor_site_list()\n",
    "\n",
    "#Reference Energies\n",
    "c_ref,o_ref,h_ref,n_ref,sym = get_reference_energies(os.path.join(path,\"Adsorbates\"),nslab)"
   ]
  },
  {
   "cell_type": "code",
   "execution_count": 3,
   "id": "6483c7d4",
   "metadata": {},
   "outputs": [
    {
     "data": {
      "text/plain": [
       "(-1100.6012040970845,\n",
       " -2079.2808830358927,\n",
       " -31.306002607381693,\n",
       " -1537.8774385201332,\n",
       " ['H', 'C', 'O', 'N'])"
      ]
     },
     "execution_count": 3,
     "metadata": {},
     "output_type": "execute_result"
    }
   ],
   "source": [
    "get_reference_energies(os.path.join(path,\"Adsorbates\"),nslab)"
   ]
  },
  {
   "cell_type": "markdown",
   "id": "d3774098",
   "metadata": {},
   "source": [
    "# Analyze Species"
   ]
  },
  {
   "cell_type": "code",
   "execution_count": 4,
   "id": "cb8417a3",
   "metadata": {},
   "outputs": [],
   "source": [
    "ad_path = os.path.join(path,\"Adsorbates\",\"O[Pt]\") #specify the path to the Pynta species directory"
   ]
  },
  {
   "cell_type": "code",
   "execution_count": 5,
   "id": "4e3579e9-c5d7-4402-8f82-b391645ace31",
   "metadata": {},
   "outputs": [],
   "source": [
    "spcs = get_species(ad_path,os.path.split(ad_path)[0],metal,facet,slab,sites,site_adjacency,nslab,c_ref=c_ref,o_ref=o_ref,h_ref=h_ref,\n",
    "               n_ref=n_ref) #all configurations\n",
    "minspc = spcs[min({k:v for k,v in spcs.items() if v.valid},key=lambda x: spcs[x].energy)] #lowest energy valid configuration"
   ]
  },
  {
   "cell_type": "code",
   "execution_count": 6,
   "id": "562a7229-362e-4bc7-82f5-2684fb0436dc",
   "metadata": {},
   "outputs": [
    {
     "name": "stdout",
     "output_type": "stream",
     "text": [
      "Relative Energies of Configurations: {'0': 0.5799099440950499, '1': 0.0, '2': 0.010057274825669538, '3': 1.7393461367878444} [eV]\n",
      "Validity of Configurations: {'0': True, '1': True, '2': True, '3': True}\n"
     ]
    }
   ],
   "source": [
    "print(\"Relative Energies of Configurations: {} [eV]\".format({k:v.energy - minspc.energy for k,v in spcs.items()}))\n",
    "print(\"Validity of Configurations: {}\".format({k:v.valid for k,v in spcs.items()}))"
   ]
  },
  {
   "cell_type": "code",
   "execution_count": 10,
   "id": "0d68d09b-bf37-4257-b9db-b482fab88b63",
   "metadata": {},
   "outputs": [],
   "source": [
    "#view(s.atoms for s in spcs.values()) #see all configurations"
   ]
  },
  {
   "cell_type": "code",
   "execution_count": 11,
   "id": "ea382d4d-4aa6-4c56-8e74-a166f9600d09",
   "metadata": {},
   "outputs": [],
   "source": [
    "#Individual species\n",
    "spc = minspc #or spc = spcs['0'] etc."
   ]
  },
  {
   "cell_type": "code",
   "execution_count": 12,
   "id": "18cef3e9-2c5f-4938-abf0-2922ebe562cc",
   "metadata": {},
   "outputs": [
    {
     "name": "stdout",
     "output_type": "stream",
     "text": [
      "Frequencies: [ 193.69390048+0.j  197.3104837 +0.j  318.30818325+0.j  521.37901976+0.j\n",
      "  557.81638325+0.j 3573.70219557+0.j] cm^-1\n"
     ]
    }
   ],
   "source": [
    "print(\"Frequencies: {} cm^-1\".format(spc.vibdata.get_frequencies()))"
   ]
  },
  {
   "cell_type": "code",
   "execution_count": 13,
   "id": "e43cda07-3915-44d3-a3f9-1d80dd8bc76f",
   "metadata": {},
   "outputs": [
    {
     "name": "stdout",
     "output_type": "stream",
     "text": [
      "Hf298: 47228.87438215474 kcal/mol\n",
      "Sf298: 6.803983740839437 cal/(mol K)\n"
     ]
    }
   ],
   "source": [
    "print(\"Hf298: {} kcal/mol\".format(spc.heat_of_formation_298K/4184.0))\n",
    "print(\"Sf298: {} cal/(mol K)\".format(spc.entropy_of_formation_298K/4.184))"
   ]
  },
  {
   "cell_type": "code",
   "execution_count": 14,
   "id": "6fe8dff8-6d62-44d1-8686-9b962740c568",
   "metadata": {},
   "outputs": [],
   "source": [
    "#view(spc.atoms) #see individual configuration"
   ]
  },
  {
   "cell_type": "code",
   "execution_count": 15,
   "id": "c130d791-a9df-426f-bde7-3f15781546e9",
   "metadata": {},
   "outputs": [
    {
     "name": "stdout",
     "output_type": "stream",
     "text": [
      "Gf(T=1000.0): 47217.622421298 kcal/mol\n",
      "Hf(T=1000.0): 47235.364420903505 kcal/mol\n",
      "Sf(T=1000.0): 17.74199960549986 cal/(mol K)\n",
      "Cp(T=1000.0): 9.998370301279053 cal/(mol K)\n"
     ]
    }
   ],
   "source": [
    "#Specific Thermodynamic Properties J-mol-K\n",
    "T = 1000.0\n",
    "print(\"Gf(T={0}): {1} kcal/mol\".format(T,spc.nasa.get_free_energy(T)/4184.0))\n",
    "print(\"Hf(T={0}): {1} kcal/mol\".format(T,spc.nasa.get_enthalpy(T)/4184.0))\n",
    "print(\"Sf(T={0}): {1} cal/(mol K)\".format(T,spc.nasa.get_entropy(T)/4.184))\n",
    "print(\"Cp(T={0}): {1} cal/(mol K)\".format(T,spc.nasa.get_heat_capacity(T)/4.184))"
   ]
  },
  {
   "cell_type": "markdown",
   "id": "9bd32ec2",
   "metadata": {},
   "source": [
    "# Analyze Transition State\n"
   ]
  },
  {
   "cell_type": "code",
   "execution_count": 16,
   "id": "02d9c6ab",
   "metadata": {},
   "outputs": [],
   "source": [
    "ts_path = os.path.join(path,\"TS3\") #specify the TS directory to analyze"
   ]
  },
  {
   "cell_type": "code",
   "execution_count": 17,
   "id": "db46993c",
   "metadata": {},
   "outputs": [
    {
     "data": {
      "image/png": "[encoded data removed]",
      "text/plain": [
       "<Figure size 640x480 with 1 Axes>"
      ]
     },
     "metadata": {},
     "output_type": "display_data"
    }
   ],
   "source": [
    "plot_eharm(ts_path,Eharmtol=3.0,Eharmfiltertol=30.0) #plot the harmonic energies of the transition state guesses and cutoffs "
   ]
  },
  {
   "cell_type": "code",
   "execution_count": 18,
   "id": "a250e803-73de-46f8-ba1e-2f6e9533f7a8",
   "metadata": {},
   "outputs": [],
   "source": [
    "kinetics = get_kinetics(ts_path,os.path.join(os.path.split(ts_path)[0],\"Adsorbates\"),metal,facet,slab,sites,site_adjacency,nslab,site_density,\n",
    "                c_ref=c_ref,o_ref=o_ref,h_ref=0.0,n_ref=0.0)\n",
    "minkinind = min({k:v for k,v in kinetics.items() if v.valid},key=lambda x: kinetics[x].barrier_f) #index of lowest energy valid configuration"
   ]
  },
  {
   "cell_type": "code",
   "execution_count": 19,
   "id": "d1e5cbf8-0904-4bc1-bd67-ecf51917a1e8",
   "metadata": {},
   "outputs": [
    {
     "name": "stdout",
     "output_type": "stream",
     "text": [
      "O[Pt] + vacantX <=> [Pt] + O=[Pt]\n"
     ]
    }
   ],
   "source": [
    "print(kinetics[minkinind].reaction_str) #Reaction String"
   ]
  },
  {
   "cell_type": "code",
   "execution_count": 20,
   "id": "18e76325-2d76-4996-a2ec-ece5ba54a352",
   "metadata": {},
   "outputs": [
    {
     "name": "stdout",
     "output_type": "stream",
     "text": [
      "Forward Barriers: {'10': 0.4842861957319826, '18': 0.6640245592363954, '22': 0.6639965267807213} [eV]\n",
      "Reverse Barriers: {'10': 3.7500546580794207, '18': 3.9297930215838335, '22': 3.9297649891281594} [eV]\n",
      "Automated Validity Determination: {'10': True, '18': True, '22': True}\n"
     ]
    }
   ],
   "source": [
    "print(\"Forward Barriers: {} [eV]\".format({k:v.barrier_f for k,v in kinetics.items()}))\n",
    "print(\"Reverse Barriers: {} [eV]\".format({k:v.barrier_r for k,v in kinetics.items()}))\n",
    "print(\"Automated Validity Determination: {}\".format({k:v.valid for k,v in kinetics.items()}))"
   ]
  },
  {
   "cell_type": "code",
   "execution_count": 21,
   "id": "0c7736b5-c218-4dbd-bc52-d58c6e7c709e",
   "metadata": {},
   "outputs": [],
   "source": [
    "#Individual Transition States/Kinetics\n",
    "ind = minkinind #'7' etc.\n",
    "kin = kinetics[ind]"
   ]
  },
  {
   "cell_type": "code",
   "execution_count": 22,
   "id": "56273b21",
   "metadata": {},
   "outputs": [
    {
     "name": "stdout",
     "output_type": "stream",
     "text": [
      "Frequencies: [   0.        +1020.17775391j  174.93777347   +0.j\n",
      "  214.59081866   +0.j          453.24854409   +0.j\n",
      "  511.18765111   +0.j         1073.31368096   +0.j        ] cm^-1\n"
     ]
    }
   ],
   "source": [
    "print(\"Frequencies: {} cm^-1\".format(kin.transition_state.vibdata.get_frequencies()))"
   ]
  },
  {
   "cell_type": "code",
   "execution_count": 23,
   "id": "786d1875-f598-468d-af86-7289b49cd7dc",
   "metadata": {},
   "outputs": [
    {
     "data": {
      "text/plain": [
       "SurfaceArrhenius(A=(7.15689e-09,'m^2/(molecule*s)'), n=0.658701, Ea=(46.6652,'kJ/mol'), T0=(1,'K'), Tmin=(298.15,'K'), Tmax=(2000,'K'), comment=\"\"\"Fitted to 172 data points; dA = *|/ 1.01111, dn = +|- 0.00142408, dEa = +|- 0.00896879 kJ/mol\"\"\")"
      ]
     },
     "execution_count": 23,
     "metadata": {},
     "output_type": "execute_result"
    }
   ],
   "source": [
    "kin.arr_f #Forward rate coefficient"
   ]
  },
  {
   "cell_type": "code",
   "execution_count": 24,
   "id": "18895197",
   "metadata": {},
   "outputs": [
    {
     "data": {
      "text/plain": [
       "SurfaceArrhenius(A=(9.11756e-22,'m^2/(molecule*s)'), n=5.54922, Ea=(355.93,'kJ/mol'), T0=(1,'K'), Tmin=(298.15,'K'), Tmax=(2000,'K'), comment=\"\"\"Fitted to 172 data points; dA = *|/ 1.07651, dn = +|- 0.00949873, dEa = +|- 0.0598228 kJ/mol\"\"\")"
      ]
     },
     "execution_count": 24,
     "metadata": {},
     "output_type": "execute_result"
    }
   ],
   "source": [
    "kin.arr_r #Reverse rate coefficient"
   ]
  },
  {
   "cell_type": "code",
   "execution_count": 25,
   "id": "e29310df-2ec0-47bd-ade1-3d653c26384e",
   "metadata": {},
   "outputs": [
    {
     "name": "stdout",
     "output_type": "stream",
     "text": [
      "dGrxn(T=1000.0): -74.06766165551475 kcal/mol\n",
      "dHrxn(T=1000.0): -74.9311702127068 kcal/mol\n",
      "dSrxn(T=1000.0): -0.8635085571877404 cal/(mol K)\n"
     ]
    }
   ],
   "source": [
    "#Specific Thermodynamic Properties J-mol-K\n",
    "T = 1000.0\n",
    "print(\"dGrxn(T={0}): {1} kcal/mol\".format(T,kin.get_gibbs_energy_reaction(T)/4184.0))\n",
    "print(\"dHrxn(T={0}): {1} kcal/mol\".format(T,kin.get_enthalpy_reaction(T)/4184.0))\n",
    "print(\"dSrxn(T={0}): {1} cal/(mol K)\".format(T,kin.get_entropy_reaction(T)/4.184))"
   ]
  },
  {
   "cell_type": "code",
   "execution_count": 26,
   "id": "3e1c27a4-7dda-44b5-85d5-3ffceecbe56b",
   "metadata": {},
   "outputs": [
    {
     "data": {
      "text/plain": [
       "{'TS_direct_Validation': True,\n",
       " 'IRC_Validation': True,\n",
       " 'One_Endpoint_Valid': True,\n",
       " 'IRC_Endpoints_Match': False,\n",
       " 'Short_IRC': False,\n",
       " 'Struct Validation': True,\n",
       " 'Freq Alignment Validation': True,\n",
       " 'Reaction_Bond_Freq_Alignments': [1.3187296303884954],\n",
       " 'Fixed_Bond_Freq_Alignments': []}"
      ]
     },
     "execution_count": 26,
     "metadata": {},
     "output_type": "execute_result"
    }
   ],
   "source": [
    "#Check TS Validity Information\n",
    "kin.valid_info"
   ]
  },
  {
   "cell_type": "code",
   "execution_count": 27,
   "id": "d6b012de-19ae-49df-a754-2aa45a97c8b7",
   "metadata": {},
   "outputs": [
    {
     "data": {
      "text/html": [
       "<html>\n",
       "\n",
       " <head>\n",
       "\n",
       "  <title>ASE atomic visualization</title>\n",
       "\n",
       "  <link rel=\"stylesheet\" type=\"text/css\"\n",
       "\n",
       "   href=\"https://www.x3dom.org/x3dom/release/x3dom.css\">\n",
       "\n",
       "  </link>\n",
       "\n",
       "  <script type=\"text/javascript\"\n",
       "\n",
       "   src=\"https://www.x3dom.org/x3dom/release/x3dom.js\">\n",
       "\n",
       "  </script>\n",
       "\n",
       " </head>\n",
       "\n",
       " <body>\n",
       "\n",
       "  <X3D>\n",
       "\n",
       "   <Scene>\n",
       "\n",
       "    <Transform translation=\"0.00 0.00 8.00\">\n",
       "\n",
       "     <Shape>\n",
       "\n",
       "      <Appearance>\n",
       "\n",
       "       <Material diffuseColor=\"0.878 0.400 0.200\" specularColor=\"0.5 0.5 0.5\">\n",
       "\n",
       "       </Material>\n",
       "\n",
       "      </Appearance>\n",
       "\n",
       "      <Sphere radius=\"1.32\">\n",
       "\n",
       "      </Sphere>\n",
       "\n",
       "     </Shape>\n",
       "\n",
       "    </Transform>\n",
       "\n",
       "    <Transform translation=\"2.83 0.00 8.00\">\n",
       "\n",
       "     <Shape>\n",
       "\n",
       "      <Appearance>\n",
       "\n",
       "       <Material diffuseColor=\"0.878 0.400 0.200\" specularColor=\"0.5 0.5 0.5\">\n",
       "\n",
       "       </Material>\n",
       "\n",
       "      </Appearance>\n",
       "\n",
       "      <Sphere radius=\"1.32\">\n",
       "\n",
       "      </Sphere>\n",
       "\n",
       "     </Shape>\n",
       "\n",
       "    </Transform>\n",
       "\n",
       "    <Transform translation=\"5.66 0.00 8.00\">\n",
       "\n",
       "     <Shape>\n",
       "\n",
       "      <Appearance>\n",
       "\n",
       "       <Material diffuseColor=\"0.878 0.400 0.200\" specularColor=\"0.5 0.5 0.5\">\n",
       "\n",
       "       </Material>\n",
       "\n",
       "      </Appearance>\n",
       "\n",
       "      <Sphere radius=\"1.32\">\n",
       "\n",
       "      </Sphere>\n",
       "\n",
       "     </Shape>\n",
       "\n",
       "    </Transform>\n",
       "\n",
       "    <Transform translation=\"1.42 2.00 8.00\">\n",
       "\n",
       "     <Shape>\n",
       "\n",
       "      <Appearance>\n",
       "\n",
       "       <Material diffuseColor=\"0.878 0.400 0.200\" specularColor=\"0.5 0.5 0.5\">\n",
       "\n",
       "       </Material>\n",
       "\n",
       "      </Appearance>\n",
       "\n",
       "      <Sphere radius=\"1.32\">\n",
       "\n",
       "      </Sphere>\n",
       "\n",
       "     </Shape>\n",
       "\n",
       "    </Transform>\n",
       "\n",
       "    <Transform translation=\"4.25 2.00 8.00\">\n",
       "\n",
       "     <Shape>\n",
       "\n",
       "      <Appearance>\n",
       "\n",
       "       <Material diffuseColor=\"0.878 0.400 0.200\" specularColor=\"0.5 0.5 0.5\">\n",
       "\n",
       "       </Material>\n",
       "\n",
       "      </Appearance>\n",
       "\n",
       "      <Sphere radius=\"1.32\">\n",
       "\n",
       "      </Sphere>\n",
       "\n",
       "     </Shape>\n",
       "\n",
       "    </Transform>\n",
       "\n",
       "    <Transform translation=\"7.08 2.00 8.00\">\n",
       "\n",
       "     <Shape>\n",
       "\n",
       "      <Appearance>\n",
       "\n",
       "       <Material diffuseColor=\"0.878 0.400 0.200\" specularColor=\"0.5 0.5 0.5\">\n",
       "\n",
       "       </Material>\n",
       "\n",
       "      </Appearance>\n",
       "\n",
       "      <Sphere radius=\"1.32\">\n",
       "\n",
       "      </Sphere>\n",
       "\n",
       "     </Shape>\n",
       "\n",
       "    </Transform>\n",
       "\n",
       "    <Transform translation=\"2.83 4.00 8.00\">\n",
       "\n",
       "     <Shape>\n",
       "\n",
       "      <Appearance>\n",
       "\n",
       "       <Material diffuseColor=\"0.878 0.400 0.200\" specularColor=\"0.5 0.5 0.5\">\n",
       "\n",
       "       </Material>\n",
       "\n",
       "      </Appearance>\n",
       "\n",
       "      <Sphere radius=\"1.32\">\n",
       "\n",
       "      </Sphere>\n",
       "\n",
       "     </Shape>\n",
       "\n",
       "    </Transform>\n",
       "\n",
       "    <Transform translation=\"5.66 4.00 8.00\">\n",
       "\n",
       "     <Shape>\n",
       "\n",
       "      <Appearance>\n",
       "\n",
       "       <Material diffuseColor=\"0.878 0.400 0.200\" specularColor=\"0.5 0.5 0.5\">\n",
       "\n",
       "       </Material>\n",
       "\n",
       "      </Appearance>\n",
       "\n",
       "      <Sphere radius=\"1.32\">\n",
       "\n",
       "      </Sphere>\n",
       "\n",
       "     </Shape>\n",
       "\n",
       "    </Transform>\n",
       "\n",
       "    <Transform translation=\"8.49 4.00 8.00\">\n",
       "\n",
       "     <Shape>\n",
       "\n",
       "      <Appearance>\n",
       "\n",
       "       <Material diffuseColor=\"0.878 0.400 0.200\" specularColor=\"0.5 0.5 0.5\">\n",
       "\n",
       "       </Material>\n",
       "\n",
       "      </Appearance>\n",
       "\n",
       "      <Sphere radius=\"1.32\">\n",
       "\n",
       "      </Sphere>\n",
       "\n",
       "     </Shape>\n",
       "\n",
       "    </Transform>\n",
       "\n",
       "    <Transform translation=\"0.00 2.00 10.00\">\n",
       "\n",
       "     <Shape>\n",
       "\n",
       "      <Appearance>\n",
       "\n",
       "       <Material diffuseColor=\"0.878 0.400 0.200\" specularColor=\"0.5 0.5 0.5\">\n",
       "\n",
       "       </Material>\n",
       "\n",
       "      </Appearance>\n",
       "\n",
       "      <Sphere radius=\"1.32\">\n",
       "\n",
       "      </Sphere>\n",
       "\n",
       "     </Shape>\n",
       "\n",
       "    </Transform>\n",
       "\n",
       "    <Transform translation=\"2.83 2.00 10.00\">\n",
       "\n",
       "     <Shape>\n",
       "\n",
       "      <Appearance>\n",
       "\n",
       "       <Material diffuseColor=\"0.878 0.400 0.200\" specularColor=\"0.5 0.5 0.5\">\n",
       "\n",
       "       </Material>\n",
       "\n",
       "      </Appearance>\n",
       "\n",
       "      <Sphere radius=\"1.32\">\n",
       "\n",
       "      </Sphere>\n",
       "\n",
       "     </Shape>\n",
       "\n",
       "    </Transform>\n",
       "\n",
       "    <Transform translation=\"5.66 2.00 10.00\">\n",
       "\n",
       "     <Shape>\n",
       "\n",
       "      <Appearance>\n",
       "\n",
       "       <Material diffuseColor=\"0.878 0.400 0.200\" specularColor=\"0.5 0.5 0.5\">\n",
       "\n",
       "       </Material>\n",
       "\n",
       "      </Appearance>\n",
       "\n",
       "      <Sphere radius=\"1.32\">\n",
       "\n",
       "      </Sphere>\n",
       "\n",
       "     </Shape>\n",
       "\n",
       "    </Transform>\n",
       "\n",
       "    <Transform translation=\"1.42 4.00 10.00\">\n",
       "\n",
       "     <Shape>\n",
       "\n",
       "      <Appearance>\n",
       "\n",
       "       <Material diffuseColor=\"0.878 0.400 0.200\" specularColor=\"0.5 0.5 0.5\">\n",
       "\n",
       "       </Material>\n",
       "\n",
       "      </Appearance>\n",
       "\n",
       "      <Sphere radius=\"1.32\">\n",
       "\n",
       "      </Sphere>\n",
       "\n",
       "     </Shape>\n",
       "\n",
       "    </Transform>\n",
       "\n",
       "    <Transform translation=\"4.25 4.00 10.00\">\n",
       "\n",
       "     <Shape>\n",
       "\n",
       "      <Appearance>\n",
       "\n",
       "       <Material diffuseColor=\"0.878 0.400 0.200\" specularColor=\"0.5 0.5 0.5\">\n",
       "\n",
       "       </Material>\n",
       "\n",
       "      </Appearance>\n",
       "\n",
       "      <Sphere radius=\"1.32\">\n",
       "\n",
       "      </Sphere>\n",
       "\n",
       "     </Shape>\n",
       "\n",
       "    </Transform>\n",
       "\n",
       "    <Transform translation=\"7.08 4.00 10.00\">\n",
       "\n",
       "     <Shape>\n",
       "\n",
       "      <Appearance>\n",
       "\n",
       "       <Material diffuseColor=\"0.878 0.400 0.200\" specularColor=\"0.5 0.5 0.5\">\n",
       "\n",
       "       </Material>\n",
       "\n",
       "      </Appearance>\n",
       "\n",
       "      <Sphere radius=\"1.32\">\n",
       "\n",
       "      </Sphere>\n",
       "\n",
       "     </Shape>\n",
       "\n",
       "    </Transform>\n",
       "\n",
       "    <Transform translation=\"2.83 6.01 10.00\">\n",
       "\n",
       "     <Shape>\n",
       "\n",
       "      <Appearance>\n",
       "\n",
       "       <Material diffuseColor=\"0.878 0.400 0.200\" specularColor=\"0.5 0.5 0.5\">\n",
       "\n",
       "       </Material>\n",
       "\n",
       "      </Appearance>\n",
       "\n",
       "      <Sphere radius=\"1.32\">\n",
       "\n",
       "      </Sphere>\n",
       "\n",
       "     </Shape>\n",
       "\n",
       "    </Transform>\n",
       "\n",
       "    <Transform translation=\"5.66 6.01 10.00\">\n",
       "\n",
       "     <Shape>\n",
       "\n",
       "      <Appearance>\n",
       "\n",
       "       <Material diffuseColor=\"0.878 0.400 0.200\" specularColor=\"0.5 0.5 0.5\">\n",
       "\n",
       "       </Material>\n",
       "\n",
       "      </Appearance>\n",
       "\n",
       "      <Sphere radius=\"1.32\">\n",
       "\n",
       "      </Sphere>\n",
       "\n",
       "     </Shape>\n",
       "\n",
       "    </Transform>\n",
       "\n",
       "    <Transform translation=\"8.49 6.01 10.00\">\n",
       "\n",
       "     <Shape>\n",
       "\n",
       "      <Appearance>\n",
       "\n",
       "       <Material diffuseColor=\"0.878 0.400 0.200\" specularColor=\"0.5 0.5 0.5\">\n",
       "\n",
       "       </Material>\n",
       "\n",
       "      </Appearance>\n",
       "\n",
       "      <Sphere radius=\"1.32\">\n",
       "\n",
       "      </Sphere>\n",
       "\n",
       "     </Shape>\n",
       "\n",
       "    </Transform>\n",
       "\n",
       "    <Transform translation=\"-0.20 -0.67 11.86\">\n",
       "\n",
       "     <Shape>\n",
       "\n",
       "      <Appearance>\n",
       "\n",
       "       <Material diffuseColor=\"0.878 0.400 0.200\" specularColor=\"0.5 0.5 0.5\">\n",
       "\n",
       "       </Material>\n",
       "\n",
       "      </Appearance>\n",
       "\n",
       "      <Sphere radius=\"1.32\">\n",
       "\n",
       "      </Sphere>\n",
       "\n",
       "     </Shape>\n",
       "\n",
       "    </Transform>\n",
       "\n",
       "    <Transform translation=\"2.97 -0.58 11.83\">\n",
       "\n",
       "     <Shape>\n",
       "\n",
       "      <Appearance>\n",
       "\n",
       "       <Material diffuseColor=\"0.878 0.400 0.200\" specularColor=\"0.5 0.5 0.5\">\n",
       "\n",
       "       </Material>\n",
       "\n",
       "      </Appearance>\n",
       "\n",
       "      <Sphere radius=\"1.32\">\n",
       "\n",
       "      </Sphere>\n",
       "\n",
       "     </Shape>\n",
       "\n",
       "    </Transform>\n",
       "\n",
       "    <Transform translation=\"5.70 -0.54 11.84\">\n",
       "\n",
       "     <Shape>\n",
       "\n",
       "      <Appearance>\n",
       "\n",
       "       <Material diffuseColor=\"0.878 0.400 0.200\" specularColor=\"0.5 0.5 0.5\">\n",
       "\n",
       "       </Material>\n",
       "\n",
       "      </Appearance>\n",
       "\n",
       "      <Sphere radius=\"1.32\">\n",
       "\n",
       "      </Sphere>\n",
       "\n",
       "     </Shape>\n",
       "\n",
       "    </Transform>\n",
       "\n",
       "    <Transform translation=\"1.29 1.32 11.87\">\n",
       "\n",
       "     <Shape>\n",
       "\n",
       "      <Appearance>\n",
       "\n",
       "       <Material diffuseColor=\"0.878 0.400 0.200\" specularColor=\"0.5 0.5 0.5\">\n",
       "\n",
       "       </Material>\n",
       "\n",
       "      </Appearance>\n",
       "\n",
       "      <Sphere radius=\"1.32\">\n",
       "\n",
       "      </Sphere>\n",
       "\n",
       "     </Shape>\n",
       "\n",
       "    </Transform>\n",
       "\n",
       "    <Transform translation=\"4.17 1.45 11.87\">\n",
       "\n",
       "     <Shape>\n",
       "\n",
       "      <Appearance>\n",
       "\n",
       "       <Material diffuseColor=\"0.878 0.400 0.200\" specularColor=\"0.5 0.5 0.5\">\n",
       "\n",
       "       </Material>\n",
       "\n",
       "      </Appearance>\n",
       "\n",
       "      <Sphere radius=\"1.32\">\n",
       "\n",
       "      </Sphere>\n",
       "\n",
       "     </Shape>\n",
       "\n",
       "    </Transform>\n",
       "\n",
       "    <Transform translation=\"7.26 1.41 11.93\">\n",
       "\n",
       "     <Shape>\n",
       "\n",
       "      <Appearance>\n",
       "\n",
       "       <Material diffuseColor=\"0.878 0.400 0.200\" specularColor=\"0.5 0.5 0.5\">\n",
       "\n",
       "       </Material>\n",
       "\n",
       "      </Appearance>\n",
       "\n",
       "      <Sphere radius=\"1.32\">\n",
       "\n",
       "      </Sphere>\n",
       "\n",
       "     </Shape>\n",
       "\n",
       "    </Transform>\n",
       "\n",
       "    <Transform translation=\"2.63 3.38 11.85\">\n",
       "\n",
       "     <Shape>\n",
       "\n",
       "      <Appearance>\n",
       "\n",
       "       <Material diffuseColor=\"0.878 0.400 0.200\" specularColor=\"0.5 0.5 0.5\">\n",
       "\n",
       "       </Material>\n",
       "\n",
       "      </Appearance>\n",
       "\n",
       "      <Sphere radius=\"1.32\">\n",
       "\n",
       "      </Sphere>\n",
       "\n",
       "     </Shape>\n",
       "\n",
       "    </Transform>\n",
       "\n",
       "    <Transform translation=\"5.69 3.57 11.86\">\n",
       "\n",
       "     <Shape>\n",
       "\n",
       "      <Appearance>\n",
       "\n",
       "       <Material diffuseColor=\"0.878 0.400 0.200\" specularColor=\"0.5 0.5 0.5\">\n",
       "\n",
       "       </Material>\n",
       "\n",
       "      </Appearance>\n",
       "\n",
       "      <Sphere radius=\"1.32\">\n",
       "\n",
       "      </Sphere>\n",
       "\n",
       "     </Shape>\n",
       "\n",
       "    </Transform>\n",
       "\n",
       "    <Transform translation=\"8.62 3.45 11.84\">\n",
       "\n",
       "     <Shape>\n",
       "\n",
       "      <Appearance>\n",
       "\n",
       "       <Material diffuseColor=\"0.878 0.400 0.200\" specularColor=\"0.5 0.5 0.5\">\n",
       "\n",
       "       </Material>\n",
       "\n",
       "      </Appearance>\n",
       "\n",
       "      <Sphere radius=\"1.32\">\n",
       "\n",
       "      </Sphere>\n",
       "\n",
       "     </Shape>\n",
       "\n",
       "    </Transform>\n",
       "\n",
       "    <Transform translation=\"5.77 2.15 13.07\">\n",
       "\n",
       "     <Shape>\n",
       "\n",
       "      <Appearance>\n",
       "\n",
       "       <Material diffuseColor=\"1.000 0.051 0.051\" specularColor=\"0.5 0.5 0.5\">\n",
       "\n",
       "       </Material>\n",
       "\n",
       "      </Appearance>\n",
       "\n",
       "      <Sphere radius=\"0.66\">\n",
       "\n",
       "      </Sphere>\n",
       "\n",
       "     </Shape>\n",
       "\n",
       "    </Transform>\n",
       "\n",
       "    <Transform translation=\"5.52 0.98 13.00\">\n",
       "\n",
       "     <Shape>\n",
       "\n",
       "      <Appearance>\n",
       "\n",
       "       <Material diffuseColor=\"1.000 1.000 1.000\" specularColor=\"0.5 0.5 0.5\">\n",
       "\n",
       "       </Material>\n",
       "\n",
       "      </Appearance>\n",
       "\n",
       "      <Sphere radius=\"0.31\">\n",
       "\n",
       "      </Sphere>\n",
       "\n",
       "     </Shape>\n",
       "\n",
       "    </Transform>\n",
       "\n",
       "   </Scene>\n",
       "\n",
       "  </X3D>\n",
       "\n",
       " </body>\n",
       "\n",
       "</html>\n",
       "\n"
      ],
      "text/plain": [
       "<IPython.core.display.HTML object>"
      ]
     },
     "execution_count": 27,
     "metadata": {},
     "output_type": "execute_result"
    }
   ],
   "source": [
    "#Visualize TS\n",
    "# view(read(os.path.join(ts_path,ind,\"opt.xyz\")))\n",
    "ase.visualize.view(read(os.path.join(ts_path,ind,\"opt.xyz\")), viewer='x3d')"
   ]
  },
  {
   "cell_type": "code",
   "execution_count": 29,
   "id": "0c434c69-601c-4979-93ab-da3d9e5dd9a0",
   "metadata": {},
   "outputs": [
    {
     "data": {
      "text/plain": [
       "<subprocess.Popen at 0x148a340e9790>"
      ]
     },
     "execution_count": 29,
     "metadata": {},
     "output_type": "execute_result"
    }
   ],
   "source": [
    "from ase.io import read\n",
    "#Visualize IRC1 \n",
    "view(Trajectory(os.path.join(ts_path,ind,\"irc_forward.traj\")))"
   ]
  },
  {
   "cell_type": "code",
   "execution_count": 30,
   "id": "8ca26f82-d6e7-4aea-bbd5-78628c0b43be",
   "metadata": {},
   "outputs": [
    {
     "data": {
      "text/plain": [
       "<subprocess.Popen at 0x148958f683a0>"
      ]
     },
     "execution_count": 30,
     "metadata": {},
     "output_type": "execute_result"
    }
   ],
   "source": [
    "#Visualize IRC2\n",
    "view(Trajectory(os.path.join(ts_path,ind,\"irc_reverse.traj\")))"
   ]
  },
  {
   "cell_type": "code",
   "execution_count": 31,
   "id": "d0a8cab1-1637-4440-b45b-4e109529908d",
   "metadata": {},
   "outputs": [
    {
     "data": {
      "text/plain": [
       "<subprocess.Popen at 0x148a340d13d0>"
      ]
     },
     "execution_count": 31,
     "metadata": {},
     "output_type": "execute_result"
    }
   ],
   "source": [
    "#Visualize Imaginary Frequency\n",
    "view(Trajectory(os.path.join(ts_path,ind,\"vib.0.traj\")))"
   ]
  },
  {
   "cell_type": "code",
   "execution_count": null,
   "id": "9ed7745f",
   "metadata": {},
   "outputs": [],
   "source": []
  },
  {
   "cell_type": "code",
   "execution_count": null,
   "id": "c05b6e27",
   "metadata": {},
   "outputs": [],
   "source": []
  }
 ],
 "metadata": {
  "kernelspec": {
   "display_name": "Python 3 (ipykernel)",
   "language": "python",
   "name": "python3"
  },
  "language_info": {
   "codemirror_mode": {
    "name": "ipython",
    "version": 3
   },
   "file_extension": ".py",
   "mimetype": "text/x-python",
   "name": "python",
   "nbconvert_exporter": "python",
   "pygments_lexer": "ipython3",
   "version": "3.8.20"
  }
 },
 "nbformat": 4,
 "nbformat_minor": 5
}
