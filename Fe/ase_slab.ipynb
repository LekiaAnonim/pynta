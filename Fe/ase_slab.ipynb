{
 "cells": [
  {
   "cell_type": "code",
   "execution_count": 4,
   "metadata": {},
   "outputs": [],
   "source": [
    "from ase.build import bcc110\n",
    "from ase.io import write"
   ]
  },
  {
   "cell_type": "code",
   "execution_count": 5,
   "metadata": {},
   "outputs": [],
   "source": [
    "'''\n",
    "The lattce parameter work is obtained from the Article \n",
    "DOI: 10.1039/c4cp01224k \n",
    "Title: An energetic evaluation of dissolution corrosion capabilities of liquid metals on iron surface\n",
    "Authors: Yichun Xu,a Chi Song\n",
    "'''\n",
    "slab_size = (3, 3, 4)\n",
    "vacuum = 14 # Armstrong\n",
    "lattice_parameter = 2.831 # Armstong"
   ]
  },
  {
   "cell_type": "code",
   "execution_count": 6,
   "metadata": {},
   "outputs": [],
   "source": [
    "fe110_slab = bcc110('Fe', size=slab_size, a=lattice_parameter, vacuum=vacuum)"
   ]
  },
  {
   "cell_type": "code",
   "execution_count": 7,
   "metadata": {},
   "outputs": [
    {
     "name": "stderr",
     "output_type": "stream",
     "text": [
      "/home/lekia.p/miniforge3/envs/pynta_env/lib/python3.8/site-packages/ase/io/extxyz.py:302: UserWarning: Skipping unhashable information adsorbate_info\n",
      "  warnings.warn('Skipping unhashable information '\n"
     ]
    }
   ],
   "source": [
    "write('/projects/westgroup/lekia.p/pynta/Fe/fe_slab.xyz', fe110_slab)"
   ]
  },
  {
   "cell_type": "code",
   "execution_count": null,
   "metadata": {},
   "outputs": [],
   "source": []
  }
 ],
 "metadata": {
  "kernelspec": {
   "display_name": "pynta_env",
   "language": "python",
   "name": "python3"
  },
  "language_info": {
   "codemirror_mode": {
    "name": "ipython",
    "version": 3
   },
   "file_extension": ".py",
   "mimetype": "text/x-python",
   "name": "python",
   "nbconvert_exporter": "python",
   "pygments_lexer": "ipython3",
   "version": "3.8.20"
  }
 },
 "nbformat": 4,
 "nbformat_minor": 2
}
